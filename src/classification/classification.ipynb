{
 "cells": [
  {
   "cell_type": "code",
   "execution_count": 44,
   "metadata": {},
   "outputs": [],
   "source": [
    "import tensorflow as tf\n",
    "from tensorflow.keras import models, layers, optimizers, losses, metrics\n",
    "import matplotlib.pyplot as plt\n",
    "from tensorflow import keras\n",
    "\n",
    "import matplotlib.pyplot as plt\n",
    "import os\n",
    "import cv2\n",
    "import numpy as np\n",
    "import pandas as pd\n",
    "from sklearn.model_selection import train_test_split"
   ]
  },
  {
   "cell_type": "code",
   "execution_count": 46,
   "metadata": {},
   "outputs": [],
   "source": [
    "PATH = \"../data/unpacked/characters\"\n",
    "\n",
    "characters = os.listdir(PATH)\n",
    "\n",
    "im_arr=[]\n",
    "lb_arr=[]\n",
    "for i, character in enumerate(characters):\n",
    "    path = os.path.join(PATH, character)\n",
    "\n",
    "    for d in sorted(os.listdir(path)):\n",
    "        img = cv2.imread(os.path.join(path, d),0)\n",
    "        img = cv2.resize(img, (32, 32))\n",
    "\n",
    "        temp_arr=img\n",
    "        temp_arr=temp_arr[np.newaxis,:,:]\n",
    "        if len(im_arr)==0:\n",
    "            im_arr=temp_arr\n",
    "        else:\n",
    "            im_arr=np.concatenate((im_arr,temp_arr),axis=0)\n",
    "        lb_arr.append(character)"
   ]
  },
  {
   "cell_type": "code",
   "execution_count": 47,
   "metadata": {},
   "outputs": [],
   "source": [
    "# convert the labels to one-hot encoding\n",
    "from sklearn import preprocessing\n",
    "\n",
    "lb_arr=np.array(lb_arr)\n",
    "le = preprocessing.LabelEncoder()\n",
    "le.fit(lb_arr)\n",
    "new_labels = le.transform(lb_arr)"
   ]
  },
  {
   "cell_type": "markdown",
   "metadata": {},
   "source": [
    "Prepare the data"
   ]
  },
  {
   "cell_type": "code",
   "execution_count": 48,
   "metadata": {},
   "outputs": [
    {
     "data": {
      "text/plain": [
       "TensorShape([4429, 32, 32, 1])"
      ]
     },
     "execution_count": 48,
     "metadata": {},
     "output_type": "execute_result"
    }
   ],
   "source": [
    "# LeNet preprocces architecture\n",
    "X_train, X_test, Y_train, Y_test = train_test_split(im_arr, new_labels, test_size=0.2, random_state=42, stratify=new_labels)\n",
    "\n",
    "# expand dims for required input shape\n",
    "X_train = tf.expand_dims(X_train, axis=3, name=None) / 255\n",
    "X_test = tf.expand_dims(X_test, axis=3, name=None) / 255\n",
    "\n",
    "X_train.shape"
   ]
  },
  {
   "cell_type": "code",
   "execution_count": 65,
   "metadata": {},
   "outputs": [
    {
     "name": "stdout",
     "output_type": "stream",
     "text": [
      "Model: \"sequential_3\"\n",
      "_________________________________________________________________\n",
      " Layer (type)                Output Shape              Param #   \n",
      "=================================================================\n",
      " conv2d_9 (Conv2D)           (None, 28, 28, 6)         156       \n",
      "                                                                 \n",
      " average_pooling2d_6 (Averag  (None, 14, 14, 6)        0         \n",
      " ePooling2D)                                                     \n",
      "                                                                 \n",
      " activation_6 (Activation)   (None, 14, 14, 6)         0         \n",
      "                                                                 \n",
      " conv2d_10 (Conv2D)          (None, 10, 10, 16)        2416      \n",
      "                                                                 \n",
      " average_pooling2d_7 (Averag  (None, 5, 5, 16)         0         \n",
      " ePooling2D)                                                     \n",
      "                                                                 \n",
      " activation_7 (Activation)   (None, 5, 5, 16)          0         \n",
      "                                                                 \n",
      " conv2d_11 (Conv2D)          (None, 1, 1, 120)         48120     \n",
      "                                                                 \n",
      " flatten_3 (Flatten)         (None, 120)               0         \n",
      "                                                                 \n",
      " dense_6 (Dense)             (None, 84)                10164     \n",
      "                                                                 \n",
      " dense_7 (Dense)             (None, 27)                2295      \n",
      "                                                                 \n",
      "=================================================================\n",
      "Total params: 63,151\n",
      "Trainable params: 63,151\n",
      "Non-trainable params: 0\n",
      "_________________________________________________________________\n"
     ]
    }
   ],
   "source": [
    "laNet = models.Sequential([\n",
    "    layers.Conv2D(6,5, activation='tanh', input_shape=(32, 32, 1)),\n",
    "    layers.AveragePooling2D(2),\n",
    "    layers.Activation('sigmoid'),\n",
    "    layers.Conv2D(16, 5, activation='tanh'),\n",
    "    layers.AveragePooling2D(2),\n",
    "    layers.Activation('sigmoid'),\t\n",
    "    layers.Conv2D(120, 5, activation='tanh'),\n",
    "    layers.Flatten(),\n",
    "    layers.Dense(84, activation='tanh'),\n",
    "    layers.Dense(27, activation='softmax')\n",
    "])\n",
    "\n",
    "laNet.summary()"
   ]
  },
  {
   "cell_type": "code",
   "execution_count": 66,
   "metadata": {},
   "outputs": [],
   "source": [
    "laNet.compile(\n",
    "    optimizer=keras.optimizers.Adam(),  # Optimizer\n",
    "    # Loss function to minimize\n",
    "    loss=keras.losses.SparseCategoricalCrossentropy(),\n",
    "    # List of metrics to monitor\n",
    "    metrics=[keras.metrics.SparseCategoricalAccuracy()],\n",
    ")"
   ]
  },
  {
   "cell_type": "code",
   "execution_count": 57,
   "metadata": {},
   "outputs": [],
   "source": [
    "callbacks = [\n",
    "    keras.callbacks.EarlyStopping(\n",
    "        # Stop training when `val_loss` is no longer improving\n",
    "        monitor=\"val_loss\",\n",
    "        # \"no longer improving\" being defined as \"no better than 1e-2 less\"\n",
    "        min_delta=1e-2,\n",
    "        # \"no longer improving\" being further defined as \"for at least 2 epochs\"\n",
    "        patience=2,\n",
    "        verbose=1,\n",
    "    )\n",
    "]"
   ]
  },
  {
   "cell_type": "code",
   "execution_count": null,
   "metadata": {},
   "outputs": [],
   "source": [
    "laNet.compile(optimizer='adam',\n",
    "             loss='sparse_categorical_crossentropy',\n",
    "             metrics=['accuracy'])"
   ]
  },
  {
   "cell_type": "code",
   "execution_count": 67,
   "metadata": {},
   "outputs": [
    {
     "name": "stdout",
     "output_type": "stream",
     "text": [
      "Epoch 1/40\n",
      "70/70 [==============================] - 1s 7ms/step - loss: 3.1327 - sparse_categorical_accuracy: 0.0515 - val_loss: 3.1146 - val_sparse_categorical_accuracy: 0.0542\n",
      "Epoch 2/40\n",
      "70/70 [==============================] - 0s 6ms/step - loss: 3.1035 - sparse_categorical_accuracy: 0.0551 - val_loss: 3.1158 - val_sparse_categorical_accuracy: 0.0542\n",
      "Epoch 3/40\n",
      "70/70 [==============================] - 0s 6ms/step - loss: 3.1094 - sparse_categorical_accuracy: 0.0515 - val_loss: 3.0999 - val_sparse_categorical_accuracy: 0.0542\n",
      "Epoch 4/40\n",
      "70/70 [==============================] - 0s 6ms/step - loss: 3.0975 - sparse_categorical_accuracy: 0.0646 - val_loss: 3.0766 - val_sparse_categorical_accuracy: 0.0542\n",
      "Epoch 5/40\n",
      "70/70 [==============================] - 0s 6ms/step - loss: 2.8767 - sparse_categorical_accuracy: 0.1689 - val_loss: 2.2967 - val_sparse_categorical_accuracy: 0.3574\n",
      "Epoch 6/40\n",
      "70/70 [==============================] - 0s 7ms/step - loss: 1.7311 - sparse_categorical_accuracy: 0.5561 - val_loss: 1.3188 - val_sparse_categorical_accuracy: 0.6913\n",
      "Epoch 7/40\n",
      "70/70 [==============================] - 0s 7ms/step - loss: 1.1596 - sparse_categorical_accuracy: 0.7153 - val_loss: 0.9545 - val_sparse_categorical_accuracy: 0.7726\n",
      "Epoch 8/40\n",
      "70/70 [==============================] - 0s 6ms/step - loss: 0.9192 - sparse_categorical_accuracy: 0.7699 - val_loss: 0.8413 - val_sparse_categorical_accuracy: 0.7870\n",
      "Epoch 9/40\n",
      "70/70 [==============================] - 0s 7ms/step - loss: 0.8240 - sparse_categorical_accuracy: 0.7801 - val_loss: 0.8185 - val_sparse_categorical_accuracy: 0.7915\n",
      "Epoch 10/40\n",
      "70/70 [==============================] - 1s 7ms/step - loss: 0.7649 - sparse_categorical_accuracy: 0.7896 - val_loss: 0.7448 - val_sparse_categorical_accuracy: 0.8014\n",
      "Epoch 11/40\n",
      "70/70 [==============================] - 0s 7ms/step - loss: 0.7278 - sparse_categorical_accuracy: 0.7972 - val_loss: 0.6679 - val_sparse_categorical_accuracy: 0.8213\n",
      "Epoch 12/40\n",
      "70/70 [==============================] - 0s 7ms/step - loss: 0.6708 - sparse_categorical_accuracy: 0.8144 - val_loss: 0.6645 - val_sparse_categorical_accuracy: 0.8231\n",
      "Epoch 13/40\n",
      "70/70 [==============================] - 0s 7ms/step - loss: 0.6469 - sparse_categorical_accuracy: 0.8171 - val_loss: 0.6435 - val_sparse_categorical_accuracy: 0.8285\n",
      "Epoch 14/40\n",
      "70/70 [==============================] - 0s 7ms/step - loss: 0.6064 - sparse_categorical_accuracy: 0.8320 - val_loss: 0.5927 - val_sparse_categorical_accuracy: 0.8457\n",
      "Epoch 15/40\n",
      "70/70 [==============================] - 0s 7ms/step - loss: 0.5760 - sparse_categorical_accuracy: 0.8447 - val_loss: 0.6115 - val_sparse_categorical_accuracy: 0.8312\n",
      "Epoch 16/40\n",
      "70/70 [==============================] - 0s 7ms/step - loss: 0.5726 - sparse_categorical_accuracy: 0.8350 - val_loss: 0.5672 - val_sparse_categorical_accuracy: 0.8556\n",
      "Epoch 17/40\n",
      "70/70 [==============================] - 0s 7ms/step - loss: 0.5356 - sparse_categorical_accuracy: 0.8480 - val_loss: 0.5747 - val_sparse_categorical_accuracy: 0.8475\n",
      "Epoch 18/40\n",
      "70/70 [==============================] - 0s 7ms/step - loss: 0.5213 - sparse_categorical_accuracy: 0.8546 - val_loss: 0.5326 - val_sparse_categorical_accuracy: 0.8520\n",
      "Epoch 19/40\n",
      "70/70 [==============================] - 0s 7ms/step - loss: 0.5003 - sparse_categorical_accuracy: 0.8609 - val_loss: 0.5195 - val_sparse_categorical_accuracy: 0.8583\n",
      "Epoch 20/40\n",
      "70/70 [==============================] - 0s 7ms/step - loss: 0.4937 - sparse_categorical_accuracy: 0.8584 - val_loss: 0.5313 - val_sparse_categorical_accuracy: 0.8484\n",
      "Epoch 21/40\n",
      "70/70 [==============================] - 0s 6ms/step - loss: 0.4762 - sparse_categorical_accuracy: 0.8663 - val_loss: 0.4973 - val_sparse_categorical_accuracy: 0.8601\n",
      "Epoch 22/40\n",
      "70/70 [==============================] - 0s 7ms/step - loss: 0.4592 - sparse_categorical_accuracy: 0.8668 - val_loss: 0.5059 - val_sparse_categorical_accuracy: 0.8583\n",
      "Epoch 23/40\n",
      "70/70 [==============================] - 0s 6ms/step - loss: 0.4359 - sparse_categorical_accuracy: 0.8767 - val_loss: 0.4843 - val_sparse_categorical_accuracy: 0.8655\n",
      "Epoch 24/40\n",
      "70/70 [==============================] - 0s 6ms/step - loss: 0.4221 - sparse_categorical_accuracy: 0.8853 - val_loss: 0.4941 - val_sparse_categorical_accuracy: 0.8691\n",
      "Epoch 25/40\n",
      "70/70 [==============================] - 0s 6ms/step - loss: 0.4191 - sparse_categorical_accuracy: 0.8808 - val_loss: 0.4722 - val_sparse_categorical_accuracy: 0.8682\n",
      "Epoch 26/40\n",
      "70/70 [==============================] - 0s 7ms/step - loss: 0.4071 - sparse_categorical_accuracy: 0.8797 - val_loss: 0.4536 - val_sparse_categorical_accuracy: 0.8709\n",
      "Epoch 27/40\n",
      "70/70 [==============================] - 0s 7ms/step - loss: 0.4098 - sparse_categorical_accuracy: 0.8801 - val_loss: 0.4485 - val_sparse_categorical_accuracy: 0.8691\n",
      "Epoch 28/40\n",
      "70/70 [==============================] - 0s 6ms/step - loss: 0.3889 - sparse_categorical_accuracy: 0.8916 - val_loss: 0.4600 - val_sparse_categorical_accuracy: 0.8691\n",
      "Epoch 29/40\n",
      "70/70 [==============================] - 0s 6ms/step - loss: 0.3771 - sparse_categorical_accuracy: 0.8946 - val_loss: 0.4474 - val_sparse_categorical_accuracy: 0.8736\n",
      "Epoch 30/40\n",
      "70/70 [==============================] - 0s 6ms/step - loss: 0.3525 - sparse_categorical_accuracy: 0.8986 - val_loss: 0.4416 - val_sparse_categorical_accuracy: 0.8827\n",
      "Epoch 31/40\n",
      "70/70 [==============================] - 0s 6ms/step - loss: 0.3465 - sparse_categorical_accuracy: 0.8988 - val_loss: 0.4220 - val_sparse_categorical_accuracy: 0.8845\n",
      "Epoch 32/40\n",
      "70/70 [==============================] - 1s 7ms/step - loss: 0.3430 - sparse_categorical_accuracy: 0.9047 - val_loss: 0.4285 - val_sparse_categorical_accuracy: 0.8791\n",
      "Epoch 33/40\n",
      "70/70 [==============================] - 0s 7ms/step - loss: 0.3359 - sparse_categorical_accuracy: 0.9038 - val_loss: 0.4311 - val_sparse_categorical_accuracy: 0.8782\n",
      "Epoch 34/40\n",
      "70/70 [==============================] - 0s 7ms/step - loss: 0.3321 - sparse_categorical_accuracy: 0.9025 - val_loss: 0.4399 - val_sparse_categorical_accuracy: 0.8800\n",
      "Epoch 35/40\n",
      "70/70 [==============================] - 0s 7ms/step - loss: 0.3218 - sparse_categorical_accuracy: 0.9063 - val_loss: 0.4212 - val_sparse_categorical_accuracy: 0.8800\n",
      "Epoch 36/40\n",
      "70/70 [==============================] - 0s 7ms/step - loss: 0.3070 - sparse_categorical_accuracy: 0.9135 - val_loss: 0.4189 - val_sparse_categorical_accuracy: 0.8872\n",
      "Epoch 37/40\n",
      "70/70 [==============================] - 0s 7ms/step - loss: 0.3135 - sparse_categorical_accuracy: 0.9052 - val_loss: 0.4462 - val_sparse_categorical_accuracy: 0.8655\n",
      "Epoch 38/40\n",
      "70/70 [==============================] - 0s 6ms/step - loss: 0.3021 - sparse_categorical_accuracy: 0.9117 - val_loss: 0.4053 - val_sparse_categorical_accuracy: 0.8881\n",
      "Epoch 39/40\n",
      "70/70 [==============================] - 0s 6ms/step - loss: 0.2935 - sparse_categorical_accuracy: 0.9149 - val_loss: 0.3969 - val_sparse_categorical_accuracy: 0.8899\n",
      "Epoch 40/40\n",
      "70/70 [==============================] - 0s 7ms/step - loss: 0.2952 - sparse_categorical_accuracy: 0.9126 - val_loss: 0.4013 - val_sparse_categorical_accuracy: 0.8899\n"
     ]
    }
   ],
   "source": [
    "# history_laNet = laNet.fit(x=X_train, y=Y_train, epochs=40,batch_size=64, validation_data=(X_train, Y_train), validation_split=0.2)\n",
    "history_laNet = laNet.fit(x=X_train, y=Y_train, epochs=40,batch_size=64, validation_data=(X_test, Y_test))"
   ]
  },
  {
   "cell_type": "code",
   "execution_count": 69,
   "metadata": {},
   "outputs": [
    {
     "name": "stdout",
     "output_type": "stream",
     "text": [
      "35/35 [==============================] - 0s 2ms/step\n"
     ]
    }
   ],
   "source": [
    "prediction = laNet.predict(X_test)"
   ]
  },
  {
   "cell_type": "code",
   "execution_count": 68,
   "metadata": {},
   "outputs": [
    {
     "name": "stdout",
     "output_type": "stream",
     "text": [
      "35/35 [==============================] - 0s 2ms/step - loss: 0.4013 - sparse_categorical_accuracy: 0.8899\n"
     ]
    },
    {
     "data": {
      "text/plain": [
       "[0.4013054668903351, 0.8898916840553284]"
      ]
     },
     "execution_count": 68,
     "metadata": {},
     "output_type": "execute_result"
    }
   ],
   "source": [
    "laNet.evaluate(X_test, Y_test)"
   ]
  },
  {
   "cell_type": "code",
   "execution_count": 70,
   "metadata": {},
   "outputs": [
    {
     "data": {
      "text/plain": [
       "array([23, 16, 21, ..., 13,  5,  4])"
      ]
     },
     "execution_count": 70,
     "metadata": {},
     "output_type": "execute_result"
    }
   ],
   "source": [
    "# get prediction \n",
    "test = np.argmax(prediction, axis=1)\n",
    "test"
   ]
  },
  {
   "cell_type": "code",
   "execution_count": 71,
   "metadata": {},
   "outputs": [
    {
     "name": "stdout",
     "output_type": "stream",
     "text": [
      "              precision    recall  f1-score   support\n",
      "\n",
      "        Alef       0.93      0.95      0.94        60\n",
      "        Ayin       0.95      0.97      0.96        60\n",
      "         Bet       0.80      0.87      0.83        60\n",
      "       Dalet       0.67      0.67      0.67        18\n",
      "       Gimel       0.80      0.98      0.88        60\n",
      "          He       0.92      0.95      0.93        60\n",
      "         Het       1.00      0.93      0.97        60\n",
      "         Kaf       0.92      0.62      0.74        39\n",
      "   Kaf-final       0.00      0.00      0.00         2\n",
      "       Lamed       0.92      0.95      0.93        59\n",
      "         Mem       0.96      0.90      0.93        60\n",
      "  Mem-medial       0.93      0.93      0.93        60\n",
      "   Nun-final       0.81      0.65      0.72        26\n",
      "  Nun-medial       0.85      0.92      0.88        60\n",
      "          Pe       0.67      0.29      0.40         7\n",
      "    Pe-final       0.00      0.00      0.00         3\n",
      "         Qof       0.85      0.94      0.89        53\n",
      "        Resh       0.56      0.62      0.59        16\n",
      "      Samekh       0.90      0.87      0.88        60\n",
      "        Shin       0.98      1.00      0.99        60\n",
      "         Taw       0.94      0.97      0.95        60\n",
      "         Tet       0.91      0.83      0.87        60\n",
      " Tsadi-final       0.81      0.87      0.84        15\n",
      "Tsadi-medial       0.98      0.95      0.97        60\n",
      "         Waw       0.75      0.91      0.82        23\n",
      "         Yod       0.00      0.00      0.00         5\n",
      "       Zayin       0.00      0.00      0.00         2\n",
      "\n",
      "    accuracy                           0.89      1108\n",
      "   macro avg       0.73      0.72      0.72      1108\n",
      "weighted avg       0.89      0.89      0.89      1108\n",
      "\n"
     ]
    },
    {
     "name": "stderr",
     "output_type": "stream",
     "text": [
      "/workspaces/Dead-Sea-Scrolls/.venv/lib/python3.10/site-packages/sklearn/metrics/_classification.py:1327: UndefinedMetricWarning: Precision and F-score are ill-defined and being set to 0.0 in labels with no predicted samples. Use `zero_division` parameter to control this behavior.\n",
      "  _warn_prf(average, modifier, msg_start, len(result))\n",
      "/workspaces/Dead-Sea-Scrolls/.venv/lib/python3.10/site-packages/sklearn/metrics/_classification.py:1327: UndefinedMetricWarning: Precision and F-score are ill-defined and being set to 0.0 in labels with no predicted samples. Use `zero_division` parameter to control this behavior.\n",
      "  _warn_prf(average, modifier, msg_start, len(result))\n",
      "/workspaces/Dead-Sea-Scrolls/.venv/lib/python3.10/site-packages/sklearn/metrics/_classification.py:1327: UndefinedMetricWarning: Precision and F-score are ill-defined and being set to 0.0 in labels with no predicted samples. Use `zero_division` parameter to control this behavior.\n",
      "  _warn_prf(average, modifier, msg_start, len(result))\n"
     ]
    }
   ],
   "source": [
    "from sklearn.metrics import classification_report\n",
    "stats = classification_report(le.inverse_transform(Y_test), le.inverse_transform(test))\n",
    "print(stats)"
   ]
  },
  {
   "cell_type": "code",
   "execution_count": 20,
   "metadata": {},
   "outputs": [
    {
     "data": {
      "text/plain": [
       "array(['Tsadi-medial', 'Qof', 'Tet', ..., 'Nun-medial', 'He', 'Gimel'],\n",
       "      dtype='<U12')"
      ]
     },
     "execution_count": 20,
     "metadata": {},
     "output_type": "execute_result"
    }
   ],
   "source": [
    "le.inverse_transform(Y_test)"
   ]
  },
  {
   "cell_type": "code",
   "execution_count": 72,
   "metadata": {},
   "outputs": [
    {
     "data": {
      "image/png": "[encoded data removed]",
      "text/plain": [
       "<Figure size 432x288 with 2 Axes>"
      ]
     },
     "metadata": {
      "needs_background": "light"
     },
     "output_type": "display_data"
    }
   ],
   "source": [
    "# confusion matrix\n",
    "from sklearn.metrics import confusion_matrix, plot_confusion_matrix\n",
    "from sklearn.datasets import make_classification\n",
    "from sklearn.metrics import confusion_matrix, ConfusionMatrixDisplay\n",
    "from sklearn.svm import SVC\n",
    "from matplotlib.pyplot import figure\n",
    "\n",
    "\n",
    "# cm = confusion_matrix(le.inverse_transform(Y_test), le.inverse_transform(test))\n",
    "cm = confusion_matrix(le.inverse_transform(Y_test), le.inverse_transform(test))\n",
    "\n",
    "disp = ConfusionMatrixDisplay(confusion_matrix=cm)\n",
    "# figure(figsize=(20, 20), dpi=380)\n",
    "\n",
    "disp.plot()\n",
    "plt.show()\n",
    "# plot larger figure"
   ]
  },
  {
   "cell_type": "code",
   "execution_count": null,
   "metadata": {},
   "outputs": [],
   "source": [
    "# plot the loss and accuracy curves for training and validation\n",
    "plt.figure(figsize=(8, 4))\n",
    "plt.subplot(1, 2, 1)\n",
    "plt.plot(history.history[\"loss\"], label=\"loss\")\n",
    "plt.plot(history.history[\"val_loss\"], label=\"val_loss\")\n",
    "plt.xlabel(\"Epochs\")\n",
    "plt.ylabel(\"Loss\")\n",
    "plt.legend()\n",
    "\n",
    "plt.subplot(1, 2, 2)\n",
    "plt.plot(history.history[\"accuracy\"], label=\"accuracy\")\n",
    "plt.plot(history.history[\"val_accuracy\"], label=\"val_accuracy\")\n",
    "plt.xlabel(\"Epochs\")\n",
    "plt.ylabel(\"Accuracy\")\n",
    "plt.legend()\n"
   ]
  },
  {
   "cell_type": "code",
   "execution_count": 64,
   "metadata": {},
   "outputs": [
    {
     "data": {
      "text/plain": [
       "<matplotlib.legend.Legend at 0x7efe437f9360>"
      ]
     },
     "execution_count": 64,
     "metadata": {},
     "output_type": "execute_result"
    },
    {
     "data": {
      "image/png": "[encoded data removed]",
      "text/plain": [
       "<Figure size 576x288 with 2 Axes>"
      ]
     },
     "metadata": {
      "needs_background": "light"
     },
     "output_type": "display_data"
    }
   ],
   "source": [
    "#plod lanet val\n",
    "plt.figure(figsize=(8, 4))\n",
    "plt.subplot(1, 2, 1)\n",
    "plt.plot(history_laNet.history[\"loss\"], label=\"loss\")\n",
    "plt.plot(history_laNet.history[\"val_loss\"], label=\"val_loss\")\n",
    "plt.xlabel(\"Epochs\")\n",
    "plt.ylabel(\"Loss\")\n",
    "plt.legend()\n",
    "\n",
    "#plot model accuracy\n",
    "plt.subplot(1, 2, 2)\n",
    "plt.plot(history_laNet.history[\"sparse_categorical_accuracy\"], label=\"accuracy\")\n",
    "plt.plot(history_laNet.history[\"val_sparse_categorical_accuracy\"], label=\"val_accuracy\")\n",
    "plt.xlabel(\"Epochs\")\n",
    "plt.ylabel(\"Accuracy\")\n",
    "plt.legend()\n",
    "\n",
    "# #\n",
    "# plt.subplot(1, 2, 2)\n",
    "# plt.plot(history.history[\"sparse_categorical_accuracy\"], label=\"accuracy\")\n",
    "# plt.plot(history.history[\"val_sparse_categorical_accuracy\"], label=\"val_accuracy\")\n",
    "# plt.xlabel(\"Epochs\")\n",
    "# plt.ylabel(\"Accuracy\")\n",
    "# plt.legend()\n"
   ]
  }
 ],
 "metadata": {
  "interpreter": {
   "hash": "a70063cea8d95d1e35a6325f2405ee680780d49cb4e994ac2efc5ac8226ef13f"
  },
  "kernelspec": {
   "display_name": "Python 3.10.4 ('.venv': poetry)",
   "language": "python",
   "name": "python3"
  },
  "language_info": {
   "codemirror_mode": {
    "name": "ipython",
    "version": 3
   },
   "file_extension": ".py",
   "mimetype": "text/x-python",
   "name": "python",
   "nbconvert_exporter": "python",
   "pygments_lexer": "ipython3",
   "version": "3.10.4"
  },
  "orig_nbformat": 4
 },
 "nbformat": 4,
 "nbformat_minor": 2
}
