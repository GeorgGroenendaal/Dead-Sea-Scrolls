{
 "cells": [
  {
   "cell_type": "code",
   "execution_count": 107,
   "metadata": {},
   "outputs": [],
   "source": [
    "import tensorflow as tf\n",
    "from tensorflow.keras import models, layers, optimizers, losses, metrics\n",
    "import matplotlib.pyplot as plt\n",
    "from tensorflow import keras\n",
    "\n",
    "import matplotlib.pyplot as plt\n",
    "import os\n",
    "import cv2\n",
    "import numpy as np\n",
    "import pandas as pd\n",
    "from sklearn.model_selection import train_test_split"
   ]
  },
  {
   "cell_type": "code",
   "execution_count": 108,
   "metadata": {},
   "outputs": [],
   "source": [
    "PATH = \"../data/unpacked/characters\"\n",
    "\n",
    "characters = os.listdir(PATH)\n",
    "\n",
    "im_arr=[]\n",
    "lb_arr=[]\n",
    "for i, character in enumerate(characters):\n",
    "    path = os.path.join(PATH, character)\n",
    "\n",
    "    for d in sorted(os.listdir(path)):\n",
    "        img = cv2.imread(os.path.join(path, d),0)\n",
    "        img = cv2.resize(img, (28, 28))\n",
    "\n",
    "        temp_arr=img\n",
    "        temp_arr=temp_arr[np.newaxis,:,:]\n",
    "        if len(im_arr)==0:\n",
    "            im_arr=temp_arr\n",
    "        else:\n",
    "            im_arr=np.concatenate((im_arr,temp_arr),axis=0)\n",
    "        lb_arr.append(character)"
   ]
  },
  {
   "cell_type": "code",
   "execution_count": 109,
   "metadata": {},
   "outputs": [],
   "source": [
    "# convert the labels to one-hot encoding\n",
    "from sklearn import preprocessing\n",
    "\n",
    "lb_arr=np.array(lb_arr)\n",
    "le = preprocessing.LabelEncoder()\n",
    "le.fit(lb_arr)\n",
    "new_labels = le.transform(lb_arr)\n"
   ]
  },
  {
   "cell_type": "markdown",
   "metadata": {},
   "source": [
    "Prepare the data"
   ]
  },
  {
   "cell_type": "code",
   "execution_count": 110,
   "metadata": {},
   "outputs": [
    {
     "data": {
      "text/plain": [
       "(4429, 28, 28)"
      ]
     },
     "execution_count": 110,
     "metadata": {},
     "output_type": "execute_result"
    }
   ],
   "source": [
    "# split data into train and test\n",
    "x_train, x_test, y_train, y_test = train_test_split(im_arr, new_labels, test_size=0.2, random_state=42, stratify=new_labels)\n",
    "\n",
    "x_train = x_train.astype(\"float32\") / 255\n",
    "x_test = x_test.astype(\"float32\") / 255\n",
    "\n",
    "x_train.shape"
   ]
  },
  {
   "cell_type": "code",
   "execution_count": 119,
   "metadata": {},
   "outputs": [
    {
     "data": {
      "text/plain": [
       "TensorShape([4429, 32, 32, 1])"
      ]
     },
     "execution_count": 119,
     "metadata": {},
     "output_type": "execute_result"
    }
   ],
   "source": [
    "# LeNet preprocces architecture\n",
    "X_train, X_test, Y_train, Y_test = train_test_split(im_arr, new_labels, test_size=0.2, random_state=42, stratify=new_labels)\n",
    "\n",
    "X_train = tf.pad(X_train, [[0, 0], [2,2], [2,2]])/255\n",
    "X_test = tf.pad(X_test, [[0, 0], [2,2], [2,2]])/255\n",
    "\n",
    "\n",
    "# expand dims for required input shape\n",
    "X_train = tf.expand_dims(X_train, axis=3, name=None)\n",
    "X_test = tf.expand_dims(X_test, axis=3, name=None)\n",
    "\n",
    "X_train.shape"
   ]
  },
  {
   "cell_type": "code",
   "execution_count": 120,
   "metadata": {},
   "outputs": [
    {
     "name": "stdout",
     "output_type": "stream",
     "text": [
      "----------LaNet preprocces architecture----------\n",
      "X_train shape: (4429, 32, 32, 1)\n",
      "X_test shape: (1108, 32, 32, 1)\n",
      "y_train shape: (4429,)\n",
      "y_test shape: (1108,)\n",
      "-----------Baseline preprocces architecture-----------\n",
      "x_train shape: (4429, 28, 28)\n",
      "x_test shape: (1108, 28, 28)\n",
      "y_train shape: (4429,)\n",
      "y_test shape: (1108,)\n"
     ]
    }
   ],
   "source": [
    "# print the shapes of the data\n",
    "print('----------LaNet preprocces architecture----------')\n",
    "print(\"X_train shape:\", X_train.shape)\n",
    "print(\"X_test shape:\", X_test.shape)\n",
    "print(\"y_train shape:\", y_train.shape)\n",
    "print(\"y_test shape:\", y_test.shape)\n",
    "\n",
    "print(\"-----------Baseline preprocces architecture-----------\")\n",
    "print(\"x_train shape:\", x_train.shape)\n",
    "print(\"x_test shape:\", x_test.shape)\n",
    "print(\"y_train shape:\", y_train.shape)\n",
    "print(\"y_test shape:\", y_test.shape)\n"
   ]
  },
  {
   "cell_type": "code",
   "execution_count": null,
   "metadata": {},
   "outputs": [],
   "source": [
    "#show an image\n",
    "plt.imshow(x_train[0])"
   ]
  },
  {
   "cell_type": "code",
   "execution_count": 111,
   "metadata": {},
   "outputs": [
    {
     "name": "stdout",
     "output_type": "stream",
     "text": [
      "Model: \"sequential_29\"\n",
      "_________________________________________________________________\n",
      " Layer (type)                Output Shape              Param #   \n",
      "=================================================================\n",
      " conv2d_71 (Conv2D)          (None, 26, 26, 28)        280       \n",
      "                                                                 \n",
      " max_pooling2d_14 (MaxPoolin  (None, 13, 13, 28)       0         \n",
      " g2D)                                                            \n",
      "                                                                 \n",
      " flatten_25 (Flatten)        (None, 4732)              0         \n",
      "                                                                 \n",
      " dense_50 (Dense)            (None, 128)               605824    \n",
      "                                                                 \n",
      " dropout_8 (Dropout)         (None, 128)               0         \n",
      "                                                                 \n",
      " dense_51 (Dense)            (None, 27)                3483      \n",
      "                                                                 \n",
      "=================================================================\n",
      "Total params: 609,587\n",
      "Trainable params: 609,587\n",
      "Non-trainable params: 0\n",
      "_________________________________________________________________\n"
     ]
    }
   ],
   "source": [
    "# Creating the model\n",
    "base = models.Sequential([\n",
    "    layers.Conv2D(28, (3, 3), activation='relu', input_shape=(28, 28, 1)),\n",
    "    layers.MaxPooling2D((2,2)),\n",
    "    layers.Flatten(),\n",
    "    layers.Dense(128, activation='relu'),\n",
    "    layers.Dropout(0.2),\n",
    "    layers.Dense(27, activation='softmax')\n",
    "])\n",
    "base.summary()"
   ]
  },
  {
   "cell_type": "code",
   "execution_count": 113,
   "metadata": {},
   "outputs": [
    {
     "name": "stdout",
     "output_type": "stream",
     "text": [
      "Model: \"sequential_31\"\n",
      "_________________________________________________________________\n",
      " Layer (type)                Output Shape              Param #   \n",
      "=================================================================\n",
      " conv2d_75 (Conv2D)          (None, 28, 28, 6)         156       \n",
      "                                                                 \n",
      " average_pooling2d_38 (Avera  (None, 14, 14, 6)        0         \n",
      " gePooling2D)                                                    \n",
      "                                                                 \n",
      " activation_44 (Activation)  (None, 14, 14, 6)         0         \n",
      "                                                                 \n",
      " conv2d_76 (Conv2D)          (None, 10, 10, 16)        2416      \n",
      "                                                                 \n",
      " average_pooling2d_39 (Avera  (None, 5, 5, 16)         0         \n",
      " gePooling2D)                                                    \n",
      "                                                                 \n",
      " activation_45 (Activation)  (None, 5, 5, 16)          0         \n",
      "                                                                 \n",
      " conv2d_77 (Conv2D)          (None, 1, 1, 120)         48120     \n",
      "                                                                 \n",
      " flatten_27 (Flatten)        (None, 120)               0         \n",
      "                                                                 \n",
      " dense_54 (Dense)            (None, 84)                10164     \n",
      "                                                                 \n",
      " dense_55 (Dense)            (None, 27)                2295      \n",
      "                                                                 \n",
      "=================================================================\n",
      "Total params: 63,151\n",
      "Trainable params: 63,151\n",
      "Non-trainable params: 0\n",
      "_________________________________________________________________\n"
     ]
    }
   ],
   "source": [
    "laNet = models.Sequential([\n",
    "    layers.Conv2D(6,5, activation='tanh', input_shape=(32, 32, 1)),\n",
    "    layers.AveragePooling2D(2),\n",
    "    layers.Activation('sigmoid'),\n",
    "    layers.Conv2D(16, 5, activation='tanh'),\n",
    "    layers.AveragePooling2D(2),\n",
    "    layers.Activation('sigmoid'),\t\n",
    "    layers.Conv2D(120, 5, activation='tanh'),\n",
    "    layers.Flatten(),\n",
    "    layers.Dense(84, activation='tanh'),\n",
    "    layers.Dense(27, activation='softmax')\n",
    "])\n",
    "\n",
    "laNet.summary()"
   ]
  },
  {
   "cell_type": "code",
   "execution_count": 114,
   "metadata": {},
   "outputs": [
    {
     "name": "stdout",
     "output_type": "stream",
     "text": [
      "Model: \"sequential_29\"\n",
      "_________________________________________________________________\n",
      " Layer (type)                Output Shape              Param #   \n",
      "=================================================================\n",
      " conv2d_71 (Conv2D)          (None, 26, 26, 28)        280       \n",
      "                                                                 \n",
      " max_pooling2d_14 (MaxPoolin  (None, 13, 13, 28)       0         \n",
      " g2D)                                                            \n",
      "                                                                 \n",
      " flatten_25 (Flatten)        (None, 4732)              0         \n",
      "                                                                 \n",
      " dense_50 (Dense)            (None, 128)               605824    \n",
      "                                                                 \n",
      " dropout_8 (Dropout)         (None, 128)               0         \n",
      "                                                                 \n",
      " dense_51 (Dense)            (None, 27)                3483      \n",
      "                                                                 \n",
      "=================================================================\n",
      "Total params: 609,587\n",
      "Trainable params: 609,587\n",
      "Non-trainable params: 0\n",
      "_________________________________________________________________\n",
      "None\n"
     ]
    }
   ],
   "source": [
    "# print model shape\n",
    "print(base.summary())"
   ]
  },
  {
   "cell_type": "code",
   "execution_count": 115,
   "metadata": {},
   "outputs": [],
   "source": [
    "laNet.compile(\n",
    "    optimizer=keras.optimizers.RMSprop(),  # Optimizer\n",
    "    # Loss function to minimize\n",
    "    loss=keras.losses.SparseCategoricalCrossentropy(),\n",
    "    # List of metrics to monitor\n",
    "    metrics=[keras.metrics.SparseCategoricalAccuracy()],\n",
    ")\n",
    "\n",
    "base.compile(\n",
    "    optimizer=keras.optimizers.Adam(),  # Optimizer\n",
    "    # Loss function to minimize\n",
    "    loss=keras.losses.SparseCategoricalCrossentropy(),\n",
    "    # List of metrics to monitor\n",
    "    metrics=[keras.metrics.SparseCategoricalAccuracy()],\n",
    ")"
   ]
  },
  {
   "cell_type": "code",
   "execution_count": 116,
   "metadata": {},
   "outputs": [],
   "source": [
    "callbacks = [\n",
    "    keras.callbacks.EarlyStopping(\n",
    "        # Stop training when `val_loss` is no longer improving\n",
    "        monitor=\"val_loss\",\n",
    "        # \"no longer improving\" being defined as \"no better than 1e-2 less\"\n",
    "        min_delta=1e-2,\n",
    "        # \"no longer improving\" being further defined as \"for at least 2 epochs\"\n",
    "        patience=2,\n",
    "        verbose=1,\n",
    "    )\n",
    "]"
   ]
  },
  {
   "cell_type": "code",
   "execution_count": 117,
   "metadata": {},
   "outputs": [],
   "source": [
    "base.compile(optimizer='adam',\n",
    "             loss='sparse_categorical_crossentropy',\n",
    "             metrics=['accuracy'])"
   ]
  },
  {
   "cell_type": "code",
   "execution_count": 118,
   "metadata": {},
   "outputs": [
    {
     "name": "stdout",
     "output_type": "stream",
     "text": [
      "Epoch 1/20\n",
      "70/70 [==============================] - 1s 7ms/step - loss: 1.6272 - accuracy: 0.5913 - val_loss: 0.7849 - val_accuracy: 0.8168\n",
      "Epoch 2/20\n",
      "70/70 [==============================] - 0s 6ms/step - loss: 0.7868 - accuracy: 0.7871 - val_loss: 0.5940 - val_accuracy: 0.8348\n",
      "Epoch 3/20\n",
      "70/70 [==============================] - 0s 6ms/step - loss: 0.6029 - accuracy: 0.8329 - val_loss: 0.4863 - val_accuracy: 0.8646\n",
      "Epoch 4/20\n",
      "70/70 [==============================] - 0s 6ms/step - loss: 0.4702 - accuracy: 0.8661 - val_loss: 0.4304 - val_accuracy: 0.8791\n",
      "Epoch 5/20\n",
      "70/70 [==============================] - 0s 6ms/step - loss: 0.3997 - accuracy: 0.8842 - val_loss: 0.3861 - val_accuracy: 0.8944\n",
      "Epoch 6/20\n",
      "70/70 [==============================] - 0s 6ms/step - loss: 0.3324 - accuracy: 0.9058 - val_loss: 0.3640 - val_accuracy: 0.9043\n",
      "Epoch 7/20\n",
      "70/70 [==============================] - 0s 6ms/step - loss: 0.2671 - accuracy: 0.9174 - val_loss: 0.3522 - val_accuracy: 0.9016\n",
      "Epoch 8/20\n",
      "70/70 [==============================] - 0s 6ms/step - loss: 0.2349 - accuracy: 0.9345 - val_loss: 0.3343 - val_accuracy: 0.9116\n",
      "Epoch 9/20\n",
      "70/70 [==============================] - 0s 6ms/step - loss: 0.2060 - accuracy: 0.9413 - val_loss: 0.3268 - val_accuracy: 0.9106\n",
      "Epoch 10/20\n",
      "70/70 [==============================] - 0s 6ms/step - loss: 0.1676 - accuracy: 0.9521 - val_loss: 0.3267 - val_accuracy: 0.9079\n",
      "Epoch 10: early stopping\n"
     ]
    }
   ],
   "source": [
    "history = base.fit(x=x_train, y=y_train, epochs=20,\n",
    "                   validation_data=(x_test, y_test), callbacks=callbacks, batch_size=64, validation_split=0.2)"
   ]
  },
  {
   "cell_type": "code",
   "execution_count": 121,
   "metadata": {},
   "outputs": [],
   "source": [
    "laNet.compile(optimizer='adam',\n",
    "             loss='sparse_categorical_crossentropy',\n",
    "             metrics=['accuracy'])"
   ]
  },
  {
   "cell_type": "code",
   "execution_count": 122,
   "metadata": {},
   "outputs": [
    {
     "name": "stdout",
     "output_type": "stream",
     "text": [
      "Epoch 1/20\n",
      "70/70 [==============================] - 1s 8ms/step - loss: 3.1349 - accuracy: 0.0510 - val_loss: 3.0989 - val_accuracy: 0.0542\n",
      "Epoch 2/20\n",
      "70/70 [==============================] - 0s 6ms/step - loss: 3.1046 - accuracy: 0.0551 - val_loss: 3.0819 - val_accuracy: 0.0560\n",
      "Epoch 3/20\n",
      "70/70 [==============================] - 0s 6ms/step - loss: 3.0058 - accuracy: 0.1197 - val_loss: 2.7257 - val_accuracy: 0.3944\n",
      "Epoch 4/20\n",
      "70/70 [==============================] - 0s 6ms/step - loss: 1.9896 - accuracy: 0.5448 - val_loss: 1.3672 - val_accuracy: 0.7211\n",
      "Epoch 5/20\n",
      "70/70 [==============================] - 0s 6ms/step - loss: 1.1830 - accuracy: 0.7333 - val_loss: 1.0111 - val_accuracy: 0.7545\n",
      "Epoch 6/20\n",
      "70/70 [==============================] - 0s 6ms/step - loss: 0.9468 - accuracy: 0.7697 - val_loss: 0.8426 - val_accuracy: 0.7807\n",
      "Epoch 7/20\n",
      "70/70 [==============================] - 0s 6ms/step - loss: 0.8227 - accuracy: 0.7851 - val_loss: 0.7345 - val_accuracy: 0.7996\n",
      "Epoch 8/20\n",
      "70/70 [==============================] - 0s 6ms/step - loss: 0.7418 - accuracy: 0.8074 - val_loss: 0.6751 - val_accuracy: 0.8258\n",
      "Epoch 9/20\n",
      "70/70 [==============================] - 0s 6ms/step - loss: 0.6908 - accuracy: 0.8112 - val_loss: 0.6495 - val_accuracy: 0.8141\n",
      "Epoch 10/20\n",
      "70/70 [==============================] - 0s 6ms/step - loss: 0.6440 - accuracy: 0.8180 - val_loss: 0.6307 - val_accuracy: 0.8204\n",
      "Epoch 11/20\n",
      "70/70 [==============================] - 0s 6ms/step - loss: 0.6078 - accuracy: 0.8374 - val_loss: 0.5654 - val_accuracy: 0.8538\n",
      "Epoch 12/20\n",
      "70/70 [==============================] - 0s 6ms/step - loss: 0.5796 - accuracy: 0.8354 - val_loss: 0.5690 - val_accuracy: 0.8493\n",
      "Epoch 13/20\n",
      "70/70 [==============================] - 0s 6ms/step - loss: 0.5480 - accuracy: 0.8476 - val_loss: 0.5268 - val_accuracy: 0.8493\n",
      "Epoch 14/20\n",
      "70/70 [==============================] - 0s 6ms/step - loss: 0.5234 - accuracy: 0.8569 - val_loss: 0.5318 - val_accuracy: 0.8520\n",
      "Epoch 15/20\n",
      "70/70 [==============================] - 0s 6ms/step - loss: 0.4996 - accuracy: 0.8618 - val_loss: 0.4860 - val_accuracy: 0.8628\n",
      "Epoch 16/20\n",
      "70/70 [==============================] - 0s 6ms/step - loss: 0.4843 - accuracy: 0.8593 - val_loss: 0.4865 - val_accuracy: 0.8655\n",
      "Epoch 17/20\n",
      "70/70 [==============================] - 0s 6ms/step - loss: 0.4712 - accuracy: 0.8684 - val_loss: 0.4785 - val_accuracy: 0.8655\n",
      "Epoch 17: early stopping\n"
     ]
    }
   ],
   "source": [
    "history_laNet = laNet.fit(x=X_train, y=Y_train, epochs=20,batch_size=64,\n",
    "                   validation_data=(X_test, Y_test),callbacks=callbacks, validation_split=0.2)"
   ]
  },
  {
   "cell_type": "code",
   "execution_count": 123,
   "metadata": {},
   "outputs": [
    {
     "data": {
      "text/plain": [
       "<matplotlib.legend.Legend at 0x7fa83061f6a0>"
      ]
     },
     "execution_count": 123,
     "metadata": {},
     "output_type": "execute_result"
    },
    {
     "data": {
      "image/png": "[encoded data removed]",
      "text/plain": [
       "<Figure size 576x288 with 2 Axes>"
      ]
     },
     "metadata": {
      "needs_background": "light"
     },
     "output_type": "display_data"
    }
   ],
   "source": [
    "# plot the loss and accuracy curves for training and validation\n",
    "plt.figure(figsize=(8, 4))\n",
    "plt.subplot(1, 2, 1)\n",
    "plt.plot(history.history[\"loss\"], label=\"loss\")\n",
    "plt.plot(history.history[\"val_loss\"], label=\"val_loss\")\n",
    "plt.xlabel(\"Epochs\")\n",
    "plt.ylabel(\"Loss\")\n",
    "plt.legend()\n",
    "\n",
    "plt.subplot(1, 2, 2)\n",
    "plt.plot(history.history[\"accuracy\"], label=\"accuracy\")\n",
    "plt.plot(history.history[\"val_accuracy\"], label=\"val_accuracy\")\n",
    "plt.xlabel(\"Epochs\")\n",
    "plt.ylabel(\"Accuracy\")\n",
    "plt.legend()\n"
   ]
  },
  {
   "cell_type": "code",
   "execution_count": 125,
   "metadata": {},
   "outputs": [
    {
     "data": {
      "text/plain": [
       "<matplotlib.legend.Legend at 0x7fa831020d90>"
      ]
     },
     "execution_count": 125,
     "metadata": {},
     "output_type": "execute_result"
    },
    {
     "data": {
      "image/png": "[encoded data removed]",
      "text/plain": [
       "<Figure size 576x288 with 2 Axes>"
      ]
     },
     "metadata": {
      "needs_background": "light"
     },
     "output_type": "display_data"
    }
   ],
   "source": [
    "#plod lanet val\n",
    "plt.figure(figsize=(8, 4))\n",
    "plt.subplot(1, 2, 1)\n",
    "plt.plot(history_laNet.history[\"loss\"], label=\"loss\")\n",
    "plt.plot(history_laNet.history[\"val_loss\"], label=\"val_loss\")\n",
    "plt.xlabel(\"Epochs\")\n",
    "plt.ylabel(\"Loss\")\n",
    "plt.legend()\n",
    "\n",
    "#plot model accuracy\n",
    "plt.subplot(1, 2, 2)\n",
    "plt.plot(history_laNet.history[\"accuracy\"], label=\"accuracy\")\n",
    "plt.plot(history_laNet.history[\"val_accuracy\"], label=\"val_accuracy\")\n",
    "plt.xlabel(\"Epochs\")\n",
    "plt.ylabel(\"Accuracy\")\n",
    "plt.legend()\n",
    "\n",
    "# #\n",
    "# plt.subplot(1, 2, 2)\n",
    "# plt.plot(history.history[\"sparse_categorical_accuracy\"], label=\"accuracy\")\n",
    "# plt.plot(history.history[\"val_sparse_categorical_accuracy\"], label=\"val_accuracy\")\n",
    "# plt.xlabel(\"Epochs\")\n",
    "# plt.ylabel(\"Accuracy\")\n",
    "# plt.legend()\n"
   ]
  }
 ],
 "metadata": {
  "interpreter": {
   "hash": "a70063cea8d95d1e35a6325f2405ee680780d49cb4e994ac2efc5ac8226ef13f"
  },
  "kernelspec": {
   "display_name": "Python 3.10.4 ('.venv': poetry)",
   "language": "python",
   "name": "python3"
  },
  "language_info": {
   "codemirror_mode": {
    "name": "ipython",
    "version": 3
   },
   "file_extension": ".py",
   "mimetype": "text/x-python",
   "name": "python",
   "nbconvert_exporter": "python",
   "pygments_lexer": "ipython3",
   "version": "3.10.4"
  },
  "orig_nbformat": 4
 },
 "nbformat": 4,
 "nbformat_minor": 2
}
