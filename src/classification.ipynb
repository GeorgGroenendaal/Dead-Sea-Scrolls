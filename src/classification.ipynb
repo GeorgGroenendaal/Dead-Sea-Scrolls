{
 "cells": [
  {
   "cell_type": "code",
   "execution_count": 154,
   "metadata": {},
   "outputs": [],
   "source": [
    "import tensorflow as tf\n",
    "from tensorflow.keras import models, layers\n",
    "import matplotlib.pyplot as plt\n",
    "from tensorflow import keras\n",
    "\n",
    "import matplotlib.pyplot as plt\n",
    "import os\n",
    "import cv2\n",
    "import numpy as np\n",
    "import pandas as pd\n",
    "from sklearn.model_selection import train_test_split"
   ]
  },
  {
   "cell_type": "code",
   "execution_count": 155,
   "metadata": {},
   "outputs": [],
   "source": [
    "PATH = \"../data/unpacked/characters\"\n",
    "\n",
    "characters = os.listdir(PATH)\n",
    "\n",
    "im_arr=[]\n",
    "lb_arr=[]\n",
    "for i, character in enumerate(characters):\n",
    "    path = os.path.join(PATH, character)\n",
    "\n",
    "    for d in sorted(os.listdir(path)):\n",
    "        img = cv2.imread(os.path.join(path, d),0)\n",
    "        img = cv2.resize(img, (28, 28))\n",
    "\n",
    "        temp_arr=img\n",
    "        temp_arr=temp_arr[np.newaxis,:,:]\n",
    "        if len(im_arr)==0:\n",
    "            im_arr=temp_arr\n",
    "        else:\n",
    "            im_arr=np.concatenate((im_arr,temp_arr),axis=0)\n",
    "        lb_arr.append(character)"
   ]
  },
  {
   "cell_type": "code",
   "execution_count": 156,
   "metadata": {},
   "outputs": [],
   "source": [
    "lb_arr=np.array(lb_arr)"
   ]
  },
  {
   "cell_type": "code",
   "execution_count": 157,
   "metadata": {},
   "outputs": [],
   "source": [
    "# convert the labels to one-hot encoding\n",
    "from sklearn import preprocessing\n",
    "\n",
    "le = preprocessing.LabelEncoder()\n",
    "le.fit(lb_arr)\n",
    "new_labels = le.transform(lb_arr)\n",
    "# le.inverse_transform(df['categorical_label'])\n"
   ]
  },
  {
   "cell_type": "markdown",
   "metadata": {},
   "source": [
    "Prepare the data"
   ]
  },
  {
   "cell_type": "code",
   "execution_count": 158,
   "metadata": {},
   "outputs": [],
   "source": [
    "# split data into train and test\n",
    "x_train, x_test, y_train, y_test = train_test_split(im_arr, new_labels, test_size=0.2, random_state=42, stratify=new_labels)\n",
    "\n",
    "x_train = x_train.astype(\"float32\") / 255\n",
    "x_test = x_test.astype(\"float32\") / 255"
   ]
  },
  {
   "cell_type": "code",
   "execution_count": 159,
   "metadata": {},
   "outputs": [
    {
     "name": "stdout",
     "output_type": "stream",
     "text": [
      "X_train shape: (4429, 28, 28)\n",
      "X_test shape: (1108, 28, 28)\n",
      "y_train shape: (4429,)\n",
      "y_test shape: (1108,)\n"
     ]
    }
   ],
   "source": [
    "# print the shapes of the data\n",
    "print(\"X_train shape:\", x_train.shape)\n",
    "print(\"X_test shape:\", x_test.shape)\n",
    "print(\"y_train shape:\", y_train.shape)\n",
    "print(\"y_test shape:\", y_test.shape)\n"
   ]
  },
  {
   "cell_type": "code",
   "execution_count": 160,
   "metadata": {},
   "outputs": [
    {
     "data": {
      "text/plain": [
       "<matplotlib.image.AxesImage at 0x7f5fa5703760>"
      ]
     },
     "execution_count": 160,
     "metadata": {},
     "output_type": "execute_result"
    },
    {
     "data": {
      "image/png": "[encoded data removed]",
      "text/plain": [
       "<Figure size 432x288 with 1 Axes>"
      ]
     },
     "metadata": {
      "needs_background": "light"
     },
     "output_type": "display_data"
    }
   ],
   "source": [
    "#show an image\n",
    "plt.imshow(X_train[0])"
   ]
  },
  {
   "cell_type": "code",
   "execution_count": 161,
   "metadata": {},
   "outputs": [],
   "source": [
    "# Creating the model\n",
    "model = models.Sequential([\n",
    "    layers.Conv2D(28, (3, 3), activation='relu', input_shape=(28, 28, 1)),\n",
    "    layers.MaxPooling2D((2,2)),\n",
    "    layers.Flatten(),\n",
    "    layers.Dense(128, activation='relu'),\n",
    "    layers.Dropout(0.2),\n",
    "    layers.Dense(27, activation='softmax')\n",
    "])"
   ]
  },
  {
   "cell_type": "code",
   "execution_count": 162,
   "metadata": {},
   "outputs": [
    {
     "name": "stdout",
     "output_type": "stream",
     "text": [
      "Model: \"sequential_10\"\n",
      "_________________________________________________________________\n",
      " Layer (type)                Output Shape              Param #   \n",
      "=================================================================\n",
      " conv2d_10 (Conv2D)          (None, 26, 26, 28)        280       \n",
      "                                                                 \n",
      " max_pooling2d_10 (MaxPoolin  (None, 13, 13, 28)       0         \n",
      " g2D)                                                            \n",
      "                                                                 \n",
      " flatten_10 (Flatten)        (None, 4732)              0         \n",
      "                                                                 \n",
      " dense_20 (Dense)            (None, 128)               605824    \n",
      "                                                                 \n",
      " dropout_10 (Dropout)        (None, 128)               0         \n",
      "                                                                 \n",
      " dense_21 (Dense)            (None, 27)                3483      \n",
      "                                                                 \n",
      "=================================================================\n",
      "Total params: 609,587\n",
      "Trainable params: 609,587\n",
      "Non-trainable params: 0\n",
      "_________________________________________________________________\n",
      "None\n"
     ]
    }
   ],
   "source": [
    "# print model shape\n",
    "print(model.summary())"
   ]
  },
  {
   "cell_type": "code",
   "execution_count": 163,
   "metadata": {},
   "outputs": [],
   "source": [
    "model.compile(\n",
    "    optimizer=keras.optimizers.RMSprop(),  # Optimizer\n",
    "    # Loss function to minimize\n",
    "    loss=keras.losses.SparseCategoricalCrossentropy(),\n",
    "    # List of metrics to monitor\n",
    "    metrics=[keras.metrics.SparseCategoricalAccuracy()],\n",
    ")"
   ]
  },
  {
   "cell_type": "code",
   "execution_count": 164,
   "metadata": {},
   "outputs": [],
   "source": [
    "callbacks = [\n",
    "    keras.callbacks.EarlyStopping(\n",
    "        # Stop training when `val_loss` is no longer improving\n",
    "        monitor=\"val_loss\",\n",
    "        # \"no longer improving\" being defined as \"no better than 1e-2 less\"\n",
    "        min_delta=1e-2,\n",
    "        # \"no longer improving\" being further defined as \"for at least 2 epochs\"\n",
    "        patience=2,\n",
    "        verbose=1,\n",
    "    )\n",
    "]"
   ]
  },
  {
   "cell_type": "code",
   "execution_count": 171,
   "metadata": {},
   "outputs": [
    {
     "name": "stdout",
     "output_type": "stream",
     "text": [
      "Epoch 1/20\n",
      "70/70 [==============================] - 2s 27ms/step - loss: 1.8634 - sparse_categorical_accuracy: 0.5455 - val_loss: 0.7883 - val_sparse_categorical_accuracy: 0.8042\n",
      "Epoch 2/20\n",
      "70/70 [==============================] - 2s 27ms/step - loss: 0.6247 - sparse_categorical_accuracy: 0.8345 - val_loss: 0.5610 - val_sparse_categorical_accuracy: 0.8366\n",
      "Epoch 3/20\n",
      "70/70 [==============================] - 2s 30ms/step - loss: 0.4285 - sparse_categorical_accuracy: 0.8839 - val_loss: 0.4227 - val_sparse_categorical_accuracy: 0.8845\n",
      "Epoch 4/20\n",
      "70/70 [==============================] - 2s 27ms/step - loss: 0.3244 - sparse_categorical_accuracy: 0.9070 - val_loss: 0.4023 - val_sparse_categorical_accuracy: 0.8971\n",
      "Epoch 5/20\n",
      "70/70 [==============================] - 2s 28ms/step - loss: 0.2460 - sparse_categorical_accuracy: 0.9291 - val_loss: 0.3623 - val_sparse_categorical_accuracy: 0.8971\n",
      "Epoch 6/20\n",
      "70/70 [==============================] - 2s 27ms/step - loss: 0.2080 - sparse_categorical_accuracy: 0.9372 - val_loss: 0.3400 - val_sparse_categorical_accuracy: 0.9116\n",
      "Epoch 7/20\n",
      "70/70 [==============================] - 2s 27ms/step - loss: 0.1561 - sparse_categorical_accuracy: 0.9537 - val_loss: 0.3485 - val_sparse_categorical_accuracy: 0.9061\n",
      "Epoch 8/20\n",
      "70/70 [==============================] - 3s 36ms/step - loss: 0.1282 - sparse_categorical_accuracy: 0.9630 - val_loss: 0.3635 - val_sparse_categorical_accuracy: 0.9079\n",
      "Epoch 8: early stopping\n"
     ]
    }
   ],
   "source": [
    "history = model.fit(x=x_train, y=y_train, epochs=20,batch_size=64,\n",
    "                   validation_data=(x_test, y_test), callbacks=callbacks, validation_split=0.2)"
   ]
  },
  {
   "cell_type": "code",
   "execution_count": 172,
   "metadata": {},
   "outputs": [
    {
     "data": {
      "text/plain": [
       "<matplotlib.legend.Legend at 0x7f5fa521f790>"
      ]
     },
     "execution_count": 172,
     "metadata": {},
     "output_type": "execute_result"
    },
    {
     "data": {
      "image/png": "[encoded data removed]",
      "text/plain": [
       "<Figure size 576x288 with 2 Axes>"
      ]
     },
     "metadata": {
      "needs_background": "light"
     },
     "output_type": "display_data"
    }
   ],
   "source": [
    "# plot the loss and accuracy curves for training and validation\n",
    "plt.figure(figsize=(8, 4))\n",
    "plt.subplot(1, 2, 1)\n",
    "plt.plot(history.history[\"loss\"], label=\"loss\")\n",
    "plt.plot(history.history[\"val_loss\"], label=\"val_loss\")\n",
    "plt.xlabel(\"Epochs\")\n",
    "plt.ylabel(\"Loss\")\n",
    "plt.legend()\n",
    "\n",
    "#plot model accuracy\n",
    "plt.subplot(1, 2, 2)\n",
    "plt.plot(history.history[\"sparse_categorical_accuracy\"], label=\"accuracy\")\n",
    "plt.plot(history.history[\"val_sparse_categorical_accuracy\"], label=\"val_accuracy\")\n",
    "plt.xlabel(\"Epochs\")\n",
    "plt.ylabel(\"Accuracy\")\n",
    "plt.legend()\n",
    "\n",
    "\n",
    "\n"
   ]
  },
  {
   "cell_type": "code",
   "execution_count": null,
   "metadata": {},
   "outputs": [],
   "source": []
  }
 ],
 "metadata": {
  "interpreter": {
   "hash": "a70063cea8d95d1e35a6325f2405ee680780d49cb4e994ac2efc5ac8226ef13f"
  },
  "kernelspec": {
   "display_name": "Python 3.10.4 ('.venv': poetry)",
   "language": "python",
   "name": "python3"
  },
  "language_info": {
   "codemirror_mode": {
    "name": "ipython",
    "version": 3
   },
   "file_extension": ".py",
   "mimetype": "text/x-python",
   "name": "python",
   "nbconvert_exporter": "python",
   "pygments_lexer": "ipython3",
   "version": "3.10.4"
  },
  "orig_nbformat": 4
 },
 "nbformat": 4,
 "nbformat_minor": 2
}
